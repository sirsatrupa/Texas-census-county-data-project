{
 "cells": [
  {
   "cell_type": "markdown",
   "metadata": {},
   "source": [
    "## Automate Excel file download"
   ]
  },
  {
   "cell_type": "code",
   "execution_count": 43,
   "metadata": {},
   "outputs": [],
   "source": [
    "from selenium import webdriver\n",
    "from webdriver_manager.chrome import ChromeDriverManager\n",
    "from selenium.webdriver.chrome.options import Options\n",
    "import shutil\n",
    "import glob\n",
    "import os\n",
    "from unicodedata import *"
   ]
  },
  {
   "cell_type": "code",
   "execution_count": 11,
   "metadata": {},
   "outputs": [
    {
     "name": "stderr",
     "output_type": "stream",
     "text": [
      "[WDM] - Current google-chrome version is 84.0.4147\n",
      "[WDM] - Get LATEST driver version for 84.0.4147\n",
      "[WDM] - Get LATEST driver version for 84.0.4147\n",
      "[WDM] - Trying to download new driver from http://chromedriver.storage.googleapis.com/84.0.4147.30/chromedriver_win32.zip\n"
     ]
    },
    {
     "name": "stdout",
     "output_type": "stream",
     "text": [
      " \n"
     ]
    },
    {
     "name": "stderr",
     "output_type": "stream",
     "text": [
      "[WDM] - Driver has been saved in cache [C:\\Users\\tsbloxsom\\.wdm\\drivers\\chromedriver\\win32\\84.0.4147.30]\n"
     ]
    }
   ],
   "source": [
    "# open a chrome browser using selenium \n",
    "driver = webdriver.Chrome(ChromeDriverManager().install())"
   ]
  },
  {
   "cell_type": "code",
   "execution_count": 12,
   "metadata": {},
   "outputs": [],
   "source": [
    "# got to web page where excel file links are located\n",
    "driver.get(\"https://www.dshs.texas.gov/coronavirus/additionaldata/\")"
   ]
  },
  {
   "cell_type": "code",
   "execution_count": 13,
   "metadata": {},
   "outputs": [],
   "source": [
    "# these options allow selenium to download files \n",
    "options = Options()\n",
    "options.add_experimental_option(\"browser.download.folderList\",2)\n",
    "options.add_experimental_option(\"browser.download.manager.showWhenStarting\", False)\n",
    "options.add_experimental_option(\"browser.helperApps.neverAsk.saveToDisk\", \"application/octet-stream,application/vnd.ms-excel\")"
   ]
  },
  {
   "cell_type": "code",
   "execution_count": 14,
   "metadata": {},
   "outputs": [],
   "source": [
    "# initialize an object to the location on the html page and click on it to download\n",
    "link = driver.find_element_by_xpath('/html/body/form/div[4]/div/div[3]/div[2]/div/div/ul[1]/li[1]/a')\n",
    "link.click()"
   ]
  },
  {
   "cell_type": "code",
   "execution_count": 54,
   "metadata": {},
   "outputs": [
    {
     "name": "stdout",
     "output_type": "stream",
     "text": [
      "/Users/tsbloxsom/Downloads\\Texas COVID-19 Case Count Data by County.xlsx\n"
     ]
    }
   ],
   "source": [
    "# locating most recent .xlsx downloaed file \n",
    "list_of_files = glob.glob('/Users/tsbloxsom/Downloads/*.xlsx') \n",
    "latest_file = max(list_of_files, key=os.path.getctime)\n",
    "print(latest_file)"
   ]
  },
  {
   "cell_type": "code",
   "execution_count": 33,
   "metadata": {},
   "outputs": [
    {
     "name": "stdout",
     "output_type": "stream",
     "text": [
      "REVERSE SOLIDUS\n"
     ]
    }
   ],
   "source": [
    "# this is just a fun little tid bit but the unicode name for \"\\\\\" is:\n",
    "print(name(u\"\\\\\"))"
   ]
  },
  {
   "cell_type": "code",
   "execution_count": 55,
   "metadata": {},
   "outputs": [
    {
     "data": {
      "text/plain": [
       "'/Users/tsbloxsom/Downloads/Texas COVID-19 Case Count Data by County.xlsx'"
      ]
     },
     "execution_count": 55,
     "metadata": {},
     "output_type": "execute_result"
    }
   ],
   "source": [
    "# replace \"\\\" with \"/\" so file path can be located by python\n",
    "latest_file = latest_file.replace(\"\\\\\", \"/\")\n",
    "latest_file"
   ]
  },
  {
   "cell_type": "code",
   "execution_count": 42,
   "metadata": {},
   "outputs": [
    {
     "data": {
      "text/plain": [
       "'/Users/tsbloxsom/Documents/GitHub/Texas-census-county-data-project/Automate collecting of data notebooks/Texas COVID-19 Case Count Data by County (1).xlsx'"
      ]
     },
     "execution_count": 42,
     "metadata": {},
     "output_type": "execute_result"
    }
   ],
   "source": [
    "# Move the file from the directory download dir to github dir\n",
    "shutil.move('/Users/tsbloxsom/Downloads/Texas COVID-19 Case Count Data by County (1).xlsx',\\\n",
    "            '/Users/tsbloxsom/Documents/GitHub/Texas-census-county-data-project/Automate collecting of data notebooks/Texas COVID-19 Case Count Data by County (1).xlsx')"
   ]
  },
  {
   "cell_type": "markdown",
   "metadata": {},
   "source": [
    "## convert excel file to df and clean"
   ]
  },
  {
   "cell_type": "code",
   "execution_count": 107,
   "metadata": {},
   "outputs": [],
   "source": [
    "import pandas as pd\n",
    "import re\n",
    "\n",
    "pd.set_option('display.max_rows', 500)\n",
    "pd.options.display.max_colwidth = 150"
   ]
  },
  {
   "cell_type": "code",
   "execution_count": 46,
   "metadata": {},
   "outputs": [
    {
     "name": "stdout",
     "output_type": "stream",
     "text": [
      "Texas COVID-19 Case Count Data by County (1).xlsx\n"
     ]
    }
   ],
   "source": [
    "# again we need to locate the .xlsx file \n",
    "list_of_files = glob.glob('/Users/tsbloxsom/Documents/GitHub/Texas-census-county-data-project/Automate collecting of data notebooks/*.xlsx') \n",
    "latest_file = max(list_of_files, key=os.path.getctime)\n",
    "print(latest_file.split(\"\\\\\")[-1])"
   ]
  },
  {
   "cell_type": "code",
   "execution_count": 101,
   "metadata": {},
   "outputs": [],
   "source": [
    "df = pd.read_excel(\"{}\".format(latest_file),header=None)"
   ]
  },
  {
   "cell_type": "code",
   "execution_count": 123,
   "metadata": {},
   "outputs": [
    {
     "data": {
      "text/html": [
       "<div>\n",
       "<style scoped>\n",
       "    .dataframe tbody tr th:only-of-type {\n",
       "        vertical-align: middle;\n",
       "    }\n",
       "\n",
       "    .dataframe tbody tr th {\n",
       "        vertical-align: top;\n",
       "    }\n",
       "\n",
       "    .dataframe thead th {\n",
       "        text-align: right;\n",
       "    }\n",
       "</style>\n",
       "<table border=\"1\" class=\"dataframe\">\n",
       "  <thead>\n",
       "    <tr style=\"text-align: right;\">\n",
       "      <th></th>\n",
       "      <th>0</th>\n",
       "      <th>1</th>\n",
       "      <th>2</th>\n",
       "      <th>3</th>\n",
       "      <th>4</th>\n",
       "      <th>5</th>\n",
       "      <th>6</th>\n",
       "      <th>7</th>\n",
       "      <th>8</th>\n",
       "      <th>9</th>\n",
       "      <th>...</th>\n",
       "      <th>144</th>\n",
       "      <th>145</th>\n",
       "      <th>146</th>\n",
       "      <th>147</th>\n",
       "      <th>148</th>\n",
       "      <th>149</th>\n",
       "      <th>150</th>\n",
       "      <th>151</th>\n",
       "      <th>152</th>\n",
       "      <th>153</th>\n",
       "    </tr>\n",
       "  </thead>\n",
       "  <tbody>\n",
       "    <tr>\n",
       "      <th>0</th>\n",
       "      <td>COVID-19 Total Cases by County, 3/4/2020 - 08/06/20 at 9:30 AM CST</td>\n",
       "      <td>NaN</td>\n",
       "      <td>NaN</td>\n",
       "      <td>NaN</td>\n",
       "      <td>NaN</td>\n",
       "      <td>NaN</td>\n",
       "      <td>NaN</td>\n",
       "      <td>NaN</td>\n",
       "      <td>NaN</td>\n",
       "      <td>NaN</td>\n",
       "      <td>...</td>\n",
       "      <td>NaN</td>\n",
       "      <td>NaN</td>\n",
       "      <td>NaN</td>\n",
       "      <td>NaN</td>\n",
       "      <td>NaN</td>\n",
       "      <td>NaN</td>\n",
       "      <td>NaN</td>\n",
       "      <td>NaN</td>\n",
       "      <td>NaN</td>\n",
       "      <td>NaN</td>\n",
       "    </tr>\n",
       "    <tr>\n",
       "      <th>1</th>\n",
       "      <td>DISCLAIMER: All data are provisional and are subject to change.</td>\n",
       "      <td>NaN</td>\n",
       "      <td>NaN</td>\n",
       "      <td>NaN</td>\n",
       "      <td>NaN</td>\n",
       "      <td>NaN</td>\n",
       "      <td>NaN</td>\n",
       "      <td>NaN</td>\n",
       "      <td>NaN</td>\n",
       "      <td>NaN</td>\n",
       "      <td>...</td>\n",
       "      <td>NaN</td>\n",
       "      <td>NaN</td>\n",
       "      <td>NaN</td>\n",
       "      <td>NaN</td>\n",
       "      <td>NaN</td>\n",
       "      <td>NaN</td>\n",
       "      <td>NaN</td>\n",
       "      <td>NaN</td>\n",
       "      <td>NaN</td>\n",
       "      <td>NaN</td>\n",
       "    </tr>\n",
       "    <tr>\n",
       "      <th>2</th>\n",
       "      <td>County Name</td>\n",
       "      <td>Cases \\r\\r\\r\\r\\r\\r\\r\\r\\r\\r\\r\\r\\r\\r\\r\\r\\r\\r\\r\\r\\r\\r\\r\\r\\r\\r\\r\\r\\r\\r\\r\\r\\r\\r\\r\\r\\n\\r\\r\\r\\r\\r\\r\\r\\r\\r\\r\\r\\r\\r\\r\\r\\r\\r\\r\\r\\r\\r\\r\\r\\r\\r\\r\\r\\r\\r\\r\\r\\r\\r...</td>\n",
       "      <td>Cases \\r\\r\\r\\r\\r\\r\\r\\r\\r\\r\\r\\r\\r\\r\\r\\r\\r\\r\\r\\r\\r\\r\\r\\r\\r\\r\\r\\r\\r\\r\\r\\r\\r\\r\\r\\r\\n\\r\\r\\r\\r\\r\\r\\r\\r\\r\\r\\r\\r\\r\\r\\r\\r\\r\\r\\r\\r\\r\\r\\r\\r\\r\\r\\r\\r\\r\\r\\r\\r\\r...</td>\n",
       "      <td>Cases \\r\\r\\r\\r\\r\\r\\r\\r\\r\\r\\r\\r\\r\\r\\r\\r\\r\\r\\r\\r\\r\\r\\r\\r\\r\\r\\r\\r\\r\\r\\r\\r\\r\\r\\r\\r\\n\\r\\r\\r\\r\\r\\r\\r\\r\\r\\r\\r\\r\\r\\r\\r\\r\\r\\r\\r\\r\\r\\r\\r\\r\\r\\r\\r\\r\\r\\r\\r\\r\\r...</td>\n",
       "      <td>Cases \\r\\r\\r\\r\\r\\r\\r\\r\\r\\r\\r\\r\\r\\r\\r\\r\\r\\r\\r\\r\\r\\r\\r\\r\\r\\r\\r\\r\\r\\r\\r\\r\\r\\r\\r\\r\\n\\r\\r\\r\\r\\r\\r\\r\\r\\r\\r\\r\\r\\r\\r\\r\\r\\r\\r\\r\\r\\r\\r\\r\\r\\r\\r\\r\\r\\r\\r\\r\\r\\r...</td>\n",
       "      <td>Cases \\r\\r\\r\\r\\r\\r\\r\\r\\r\\r\\r\\r\\r\\r\\r\\r\\r\\r\\r\\r\\r\\r\\r\\r\\r\\r\\r\\r\\r\\r\\r\\r\\r\\r\\r\\r\\n\\r\\r\\r\\r\\r\\r\\r\\r\\r\\r\\r\\r\\r\\r\\r\\r\\r\\r\\r\\r\\r\\r\\r\\r\\r\\r\\r\\r\\r\\r\\r\\r\\r...</td>\n",
       "      <td>Cases \\r\\r\\r\\r\\r\\r\\r\\r\\r\\r\\r\\r\\r\\r\\r\\r\\r\\r\\r\\r\\r\\r\\r\\r\\r\\r\\r\\r\\r\\r\\r\\r\\r\\r\\r\\r\\n\\r\\r\\r\\r\\r\\r\\r\\r\\r\\r\\r\\r\\r\\r\\r\\r\\r\\r\\r\\r\\r\\r\\r\\r\\r\\r\\r\\r\\r\\r\\r\\r\\r...</td>\n",
       "      <td>Cases \\r\\r\\r\\r\\r\\r\\r\\r\\r\\r\\r\\r\\r\\r\\r\\r\\r\\r\\r\\r\\r\\r\\r\\r\\r\\r\\r\\r\\r\\r\\r\\r\\r\\r\\r\\r\\n\\r\\r\\r\\r\\r\\r\\r\\r\\r\\r\\r\\r\\r\\r\\r\\r\\r\\r\\r\\r\\r\\r\\r\\r\\r\\r\\r\\r\\r\\r\\r\\r\\r...</td>\n",
       "      <td>Cases \\r\\r\\r\\r\\r\\r\\r\\r\\r\\r\\r\\r\\r\\r\\r\\r\\r\\r\\r\\r\\r\\r\\r\\r\\r\\r\\r\\r\\r\\r\\r\\r\\r\\r\\r\\r\\n\\r\\r\\r\\r\\r\\r\\r\\r\\r\\r\\r\\r\\r\\r\\r\\r\\r\\r\\r\\r\\r\\r\\r\\r\\r\\r\\r\\r\\r\\r\\r\\r\\r...</td>\n",
       "      <td>Cases \\r\\r\\r\\r\\r\\r\\r\\r\\r\\r\\r\\r\\r\\r\\r\\r\\r\\r\\r\\r\\r\\r\\r\\r\\r\\r\\r\\r\\r\\r\\r\\r\\r\\r\\r\\r\\n\\r\\r\\r\\r\\r\\r\\r\\r\\r\\r\\r\\r\\r\\r\\r\\r\\r\\r\\r\\r\\r\\r\\r\\r\\r\\r\\r\\r\\r\\r\\r\\r\\r...</td>\n",
       "      <td>...</td>\n",
       "      <td>Cases 07-28</td>\n",
       "      <td>Cases 07-29</td>\n",
       "      <td>Cases 07-30</td>\n",
       "      <td>Cases 07-31</td>\n",
       "      <td>Cases 08-01</td>\n",
       "      <td>Cases 08-02</td>\n",
       "      <td>Cases 08-03</td>\n",
       "      <td>Cases 08-04</td>\n",
       "      <td>Cases 08-05</td>\n",
       "      <td>Cases 08-06</td>\n",
       "    </tr>\n",
       "    <tr>\n",
       "      <th>3</th>\n",
       "      <td>Anderson</td>\n",
       "      <td>0</td>\n",
       "      <td>0</td>\n",
       "      <td>0</td>\n",
       "      <td>0</td>\n",
       "      <td>0</td>\n",
       "      <td>0</td>\n",
       "      <td>0</td>\n",
       "      <td>0</td>\n",
       "      <td>0</td>\n",
       "      <td>...</td>\n",
       "      <td>2162</td>\n",
       "      <td>2172</td>\n",
       "      <td>2174</td>\n",
       "      <td>2196</td>\n",
       "      <td>2209</td>\n",
       "      <td>2209</td>\n",
       "      <td>2307</td>\n",
       "      <td>2329</td>\n",
       "      <td>2355</td>\n",
       "      <td>2353</td>\n",
       "    </tr>\n",
       "    <tr>\n",
       "      <th>4</th>\n",
       "      <td>Andrews</td>\n",
       "      <td>0</td>\n",
       "      <td>0</td>\n",
       "      <td>0</td>\n",
       "      <td>0</td>\n",
       "      <td>0</td>\n",
       "      <td>0</td>\n",
       "      <td>0</td>\n",
       "      <td>0</td>\n",
       "      <td>0</td>\n",
       "      <td>...</td>\n",
       "      <td>232</td>\n",
       "      <td>238</td>\n",
       "      <td>253</td>\n",
       "      <td>255</td>\n",
       "      <td>255</td>\n",
       "      <td>266</td>\n",
       "      <td>267</td>\n",
       "      <td>268</td>\n",
       "      <td>273</td>\n",
       "      <td>277</td>\n",
       "    </tr>\n",
       "  </tbody>\n",
       "</table>\n",
       "<p>5 rows × 154 columns</p>\n",
       "</div>"
      ],
      "text/plain": [
       "                                                                  0    \\\n",
       "0  COVID-19 Total Cases by County, 3/4/2020 - 08/06/20 at 9:30 AM CST   \n",
       "1     DISCLAIMER: All data are provisional and are subject to change.   \n",
       "2                                                         County Name   \n",
       "3                                                            Anderson   \n",
       "4                                                             Andrews   \n",
       "\n",
       "                                                                                                                                                     1    \\\n",
       "0                                                                                                                                                    NaN   \n",
       "1                                                                                                                                                    NaN   \n",
       "2  Cases \\r\\r\\r\\r\\r\\r\\r\\r\\r\\r\\r\\r\\r\\r\\r\\r\\r\\r\\r\\r\\r\\r\\r\\r\\r\\r\\r\\r\\r\\r\\r\\r\\r\\r\\r\\r\\n\\r\\r\\r\\r\\r\\r\\r\\r\\r\\r\\r\\r\\r\\r\\r\\r\\r\\r\\r\\r\\r\\r\\r\\r\\r\\r\\r\\r\\r\\r\\r\\r\\r...   \n",
       "3                                                                                                                                                      0   \n",
       "4                                                                                                                                                      0   \n",
       "\n",
       "                                                                                                                                                     2    \\\n",
       "0                                                                                                                                                    NaN   \n",
       "1                                                                                                                                                    NaN   \n",
       "2  Cases \\r\\r\\r\\r\\r\\r\\r\\r\\r\\r\\r\\r\\r\\r\\r\\r\\r\\r\\r\\r\\r\\r\\r\\r\\r\\r\\r\\r\\r\\r\\r\\r\\r\\r\\r\\r\\n\\r\\r\\r\\r\\r\\r\\r\\r\\r\\r\\r\\r\\r\\r\\r\\r\\r\\r\\r\\r\\r\\r\\r\\r\\r\\r\\r\\r\\r\\r\\r\\r\\r...   \n",
       "3                                                                                                                                                      0   \n",
       "4                                                                                                                                                      0   \n",
       "\n",
       "                                                                                                                                                     3    \\\n",
       "0                                                                                                                                                    NaN   \n",
       "1                                                                                                                                                    NaN   \n",
       "2  Cases \\r\\r\\r\\r\\r\\r\\r\\r\\r\\r\\r\\r\\r\\r\\r\\r\\r\\r\\r\\r\\r\\r\\r\\r\\r\\r\\r\\r\\r\\r\\r\\r\\r\\r\\r\\r\\n\\r\\r\\r\\r\\r\\r\\r\\r\\r\\r\\r\\r\\r\\r\\r\\r\\r\\r\\r\\r\\r\\r\\r\\r\\r\\r\\r\\r\\r\\r\\r\\r\\r...   \n",
       "3                                                                                                                                                      0   \n",
       "4                                                                                                                                                      0   \n",
       "\n",
       "                                                                                                                                                     4    \\\n",
       "0                                                                                                                                                    NaN   \n",
       "1                                                                                                                                                    NaN   \n",
       "2  Cases \\r\\r\\r\\r\\r\\r\\r\\r\\r\\r\\r\\r\\r\\r\\r\\r\\r\\r\\r\\r\\r\\r\\r\\r\\r\\r\\r\\r\\r\\r\\r\\r\\r\\r\\r\\r\\n\\r\\r\\r\\r\\r\\r\\r\\r\\r\\r\\r\\r\\r\\r\\r\\r\\r\\r\\r\\r\\r\\r\\r\\r\\r\\r\\r\\r\\r\\r\\r\\r\\r...   \n",
       "3                                                                                                                                                      0   \n",
       "4                                                                                                                                                      0   \n",
       "\n",
       "                                                                                                                                                     5    \\\n",
       "0                                                                                                                                                    NaN   \n",
       "1                                                                                                                                                    NaN   \n",
       "2  Cases \\r\\r\\r\\r\\r\\r\\r\\r\\r\\r\\r\\r\\r\\r\\r\\r\\r\\r\\r\\r\\r\\r\\r\\r\\r\\r\\r\\r\\r\\r\\r\\r\\r\\r\\r\\r\\n\\r\\r\\r\\r\\r\\r\\r\\r\\r\\r\\r\\r\\r\\r\\r\\r\\r\\r\\r\\r\\r\\r\\r\\r\\r\\r\\r\\r\\r\\r\\r\\r\\r...   \n",
       "3                                                                                                                                                      0   \n",
       "4                                                                                                                                                      0   \n",
       "\n",
       "                                                                                                                                                     6    \\\n",
       "0                                                                                                                                                    NaN   \n",
       "1                                                                                                                                                    NaN   \n",
       "2  Cases \\r\\r\\r\\r\\r\\r\\r\\r\\r\\r\\r\\r\\r\\r\\r\\r\\r\\r\\r\\r\\r\\r\\r\\r\\r\\r\\r\\r\\r\\r\\r\\r\\r\\r\\r\\r\\n\\r\\r\\r\\r\\r\\r\\r\\r\\r\\r\\r\\r\\r\\r\\r\\r\\r\\r\\r\\r\\r\\r\\r\\r\\r\\r\\r\\r\\r\\r\\r\\r\\r...   \n",
       "3                                                                                                                                                      0   \n",
       "4                                                                                                                                                      0   \n",
       "\n",
       "                                                                                                                                                     7    \\\n",
       "0                                                                                                                                                    NaN   \n",
       "1                                                                                                                                                    NaN   \n",
       "2  Cases \\r\\r\\r\\r\\r\\r\\r\\r\\r\\r\\r\\r\\r\\r\\r\\r\\r\\r\\r\\r\\r\\r\\r\\r\\r\\r\\r\\r\\r\\r\\r\\r\\r\\r\\r\\r\\n\\r\\r\\r\\r\\r\\r\\r\\r\\r\\r\\r\\r\\r\\r\\r\\r\\r\\r\\r\\r\\r\\r\\r\\r\\r\\r\\r\\r\\r\\r\\r\\r\\r...   \n",
       "3                                                                                                                                                      0   \n",
       "4                                                                                                                                                      0   \n",
       "\n",
       "                                                                                                                                                     8    \\\n",
       "0                                                                                                                                                    NaN   \n",
       "1                                                                                                                                                    NaN   \n",
       "2  Cases \\r\\r\\r\\r\\r\\r\\r\\r\\r\\r\\r\\r\\r\\r\\r\\r\\r\\r\\r\\r\\r\\r\\r\\r\\r\\r\\r\\r\\r\\r\\r\\r\\r\\r\\r\\r\\n\\r\\r\\r\\r\\r\\r\\r\\r\\r\\r\\r\\r\\r\\r\\r\\r\\r\\r\\r\\r\\r\\r\\r\\r\\r\\r\\r\\r\\r\\r\\r\\r\\r...   \n",
       "3                                                                                                                                                      0   \n",
       "4                                                                                                                                                      0   \n",
       "\n",
       "                                                                                                                                                     9    \\\n",
       "0                                                                                                                                                    NaN   \n",
       "1                                                                                                                                                    NaN   \n",
       "2  Cases \\r\\r\\r\\r\\r\\r\\r\\r\\r\\r\\r\\r\\r\\r\\r\\r\\r\\r\\r\\r\\r\\r\\r\\r\\r\\r\\r\\r\\r\\r\\r\\r\\r\\r\\r\\r\\n\\r\\r\\r\\r\\r\\r\\r\\r\\r\\r\\r\\r\\r\\r\\r\\r\\r\\r\\r\\r\\r\\r\\r\\r\\r\\r\\r\\r\\r\\r\\r\\r\\r...   \n",
       "3                                                                                                                                                      0   \n",
       "4                                                                                                                                                      0   \n",
       "\n",
       "   ...          144          145          146          147          148  \\\n",
       "0  ...          NaN          NaN          NaN          NaN          NaN   \n",
       "1  ...          NaN          NaN          NaN          NaN          NaN   \n",
       "2  ...  Cases 07-28  Cases 07-29  Cases 07-30  Cases 07-31  Cases 08-01   \n",
       "3  ...         2162         2172         2174         2196         2209   \n",
       "4  ...          232          238          253          255          255   \n",
       "\n",
       "           149          150          151          152          153  \n",
       "0          NaN          NaN          NaN          NaN          NaN  \n",
       "1          NaN          NaN          NaN          NaN          NaN  \n",
       "2  Cases 08-02  Cases 08-03  Cases 08-04  Cases 08-05  Cases 08-06  \n",
       "3         2209         2307         2329         2355         2353  \n",
       "4          266          267          268          273          277  \n",
       "\n",
       "[5 rows x 154 columns]"
      ]
     },
     "execution_count": 123,
     "metadata": {},
     "output_type": "execute_result"
    }
   ],
   "source": [
    "df.head()"
   ]
  },
  {
   "cell_type": "code",
   "execution_count": 111,
   "metadata": {},
   "outputs": [
    {
     "name": "stdout",
     "output_type": "stream",
     "text": [
      "COVID cases latest update: 08/06/20 at 9:30 AM CST\n",
      "DISCLAIMER: All data are provisional and are subject to change.\n"
     ]
    }
   ],
   "source": [
    "# print out latest COVID data datetime and notes\n",
    "date = re.findall(\"- [0-9]+/[0-9]+/[0-9]+ .+\", df.iloc[0, 0])\n",
    "print(\"COVID cases latest update:\", date[0][2:])\n",
    "print(df.iloc[1, 0])\n",
    "#print(str(df.iloc[262:266, 0]).lstrip().rstrip())\n",
    "\n",
    "#drop non-data rows\n",
    "df2 = df.drop([0, 1, 258, 260, 261, 262, 263, 264, 265, 266, 267])"
   ]
  },
  {
   "cell_type": "code",
   "execution_count": 119,
   "metadata": {},
   "outputs": [],
   "source": [
    "# clean column names\n",
    "df2.iloc[0,:] = df2.iloc[0,:].apply(lambda x: x.replace(\"\\r\", \"\"))\n",
    "df2.iloc[0,:] = df2.iloc[0,:].apply(lambda x: x.replace(\"\\n\", \"\"))\n",
    "df2.columns = df2.iloc[0]\n",
    "clean_df = df2.drop(df2.index[0])\n",
    "clean_df = clean_df.set_index(\"County Name\")"
   ]
  },
  {
   "cell_type": "code",
   "execution_count": 120,
   "metadata": {},
   "outputs": [
    {
     "data": {
      "text/html": [
       "<div>\n",
       "<style scoped>\n",
       "    .dataframe tbody tr th:only-of-type {\n",
       "        vertical-align: middle;\n",
       "    }\n",
       "\n",
       "    .dataframe tbody tr th {\n",
       "        vertical-align: top;\n",
       "    }\n",
       "\n",
       "    .dataframe thead th {\n",
       "        text-align: right;\n",
       "    }\n",
       "</style>\n",
       "<table border=\"1\" class=\"dataframe\">\n",
       "  <thead>\n",
       "    <tr style=\"text-align: right;\">\n",
       "      <th>2</th>\n",
       "      <th>Cases 03-04</th>\n",
       "      <th>Cases 03-05</th>\n",
       "      <th>Cases 03-06</th>\n",
       "      <th>Cases 03-09</th>\n",
       "      <th>Cases 03-10</th>\n",
       "      <th>Cases 03-11</th>\n",
       "      <th>Cases 03-12</th>\n",
       "      <th>Cases 03-13</th>\n",
       "      <th>Cases 03-15</th>\n",
       "      <th>Cases 03-16</th>\n",
       "      <th>...</th>\n",
       "      <th>Cases 07-28</th>\n",
       "      <th>Cases 07-29</th>\n",
       "      <th>Cases 07-30</th>\n",
       "      <th>Cases 07-31</th>\n",
       "      <th>Cases 08-01</th>\n",
       "      <th>Cases 08-02</th>\n",
       "      <th>Cases 08-03</th>\n",
       "      <th>Cases 08-04</th>\n",
       "      <th>Cases 08-05</th>\n",
       "      <th>Cases 08-06</th>\n",
       "    </tr>\n",
       "    <tr>\n",
       "      <th>County Name</th>\n",
       "      <th></th>\n",
       "      <th></th>\n",
       "      <th></th>\n",
       "      <th></th>\n",
       "      <th></th>\n",
       "      <th></th>\n",
       "      <th></th>\n",
       "      <th></th>\n",
       "      <th></th>\n",
       "      <th></th>\n",
       "      <th></th>\n",
       "      <th></th>\n",
       "      <th></th>\n",
       "      <th></th>\n",
       "      <th></th>\n",
       "      <th></th>\n",
       "      <th></th>\n",
       "      <th></th>\n",
       "      <th></th>\n",
       "      <th></th>\n",
       "      <th></th>\n",
       "    </tr>\n",
       "  </thead>\n",
       "  <tbody>\n",
       "    <tr>\n",
       "      <th>Anderson</th>\n",
       "      <td>0</td>\n",
       "      <td>0</td>\n",
       "      <td>0</td>\n",
       "      <td>0</td>\n",
       "      <td>0</td>\n",
       "      <td>0</td>\n",
       "      <td>0</td>\n",
       "      <td>0</td>\n",
       "      <td>0</td>\n",
       "      <td>0</td>\n",
       "      <td>...</td>\n",
       "      <td>2162</td>\n",
       "      <td>2172</td>\n",
       "      <td>2174</td>\n",
       "      <td>2196</td>\n",
       "      <td>2209</td>\n",
       "      <td>2209</td>\n",
       "      <td>2307</td>\n",
       "      <td>2329</td>\n",
       "      <td>2355</td>\n",
       "      <td>2353</td>\n",
       "    </tr>\n",
       "    <tr>\n",
       "      <th>Andrews</th>\n",
       "      <td>0</td>\n",
       "      <td>0</td>\n",
       "      <td>0</td>\n",
       "      <td>0</td>\n",
       "      <td>0</td>\n",
       "      <td>0</td>\n",
       "      <td>0</td>\n",
       "      <td>0</td>\n",
       "      <td>0</td>\n",
       "      <td>0</td>\n",
       "      <td>...</td>\n",
       "      <td>232</td>\n",
       "      <td>238</td>\n",
       "      <td>253</td>\n",
       "      <td>255</td>\n",
       "      <td>255</td>\n",
       "      <td>266</td>\n",
       "      <td>267</td>\n",
       "      <td>268</td>\n",
       "      <td>273</td>\n",
       "      <td>277</td>\n",
       "    </tr>\n",
       "    <tr>\n",
       "      <th>Angelina</th>\n",
       "      <td>0</td>\n",
       "      <td>0</td>\n",
       "      <td>0</td>\n",
       "      <td>0</td>\n",
       "      <td>0</td>\n",
       "      <td>0</td>\n",
       "      <td>0</td>\n",
       "      <td>0</td>\n",
       "      <td>0</td>\n",
       "      <td>0</td>\n",
       "      <td>...</td>\n",
       "      <td>1487</td>\n",
       "      <td>1566</td>\n",
       "      <td>1606</td>\n",
       "      <td>1606</td>\n",
       "      <td>1647</td>\n",
       "      <td>1647</td>\n",
       "      <td>1647</td>\n",
       "      <td>1745</td>\n",
       "      <td>1755</td>\n",
       "      <td>1769</td>\n",
       "    </tr>\n",
       "    <tr>\n",
       "      <th>Aransas</th>\n",
       "      <td>0</td>\n",
       "      <td>0</td>\n",
       "      <td>0</td>\n",
       "      <td>0</td>\n",
       "      <td>0</td>\n",
       "      <td>0</td>\n",
       "      <td>0</td>\n",
       "      <td>0</td>\n",
       "      <td>0</td>\n",
       "      <td>0</td>\n",
       "      <td>...</td>\n",
       "      <td>135</td>\n",
       "      <td>136</td>\n",
       "      <td>149</td>\n",
       "      <td>153</td>\n",
       "      <td>153</td>\n",
       "      <td>157</td>\n",
       "      <td>158</td>\n",
       "      <td>158</td>\n",
       "      <td>162</td>\n",
       "      <td>165</td>\n",
       "    </tr>\n",
       "    <tr>\n",
       "      <th>Archer</th>\n",
       "      <td>0</td>\n",
       "      <td>0</td>\n",
       "      <td>0</td>\n",
       "      <td>0</td>\n",
       "      <td>0</td>\n",
       "      <td>0</td>\n",
       "      <td>0</td>\n",
       "      <td>0</td>\n",
       "      <td>0</td>\n",
       "      <td>0</td>\n",
       "      <td>...</td>\n",
       "      <td>15</td>\n",
       "      <td>15</td>\n",
       "      <td>17</td>\n",
       "      <td>17</td>\n",
       "      <td>20</td>\n",
       "      <td>20</td>\n",
       "      <td>20</td>\n",
       "      <td>20</td>\n",
       "      <td>20</td>\n",
       "      <td>21</td>\n",
       "    </tr>\n",
       "  </tbody>\n",
       "</table>\n",
       "<p>5 rows × 153 columns</p>\n",
       "</div>"
      ],
      "text/plain": [
       "2           Cases 03-04 Cases 03-05 Cases 03-06 Cases 03-09 Cases 03-10  \\\n",
       "County Name                                                               \n",
       "Anderson              0           0           0           0           0   \n",
       "Andrews               0           0           0           0           0   \n",
       "Angelina              0           0           0           0           0   \n",
       "Aransas               0           0           0           0           0   \n",
       "Archer                0           0           0           0           0   \n",
       "\n",
       "2           Cases 03-11 Cases 03-12 Cases 03-13 Cases 03-15 Cases 03-16  ...  \\\n",
       "County Name                                                              ...   \n",
       "Anderson              0           0           0           0           0  ...   \n",
       "Andrews               0           0           0           0           0  ...   \n",
       "Angelina              0           0           0           0           0  ...   \n",
       "Aransas               0           0           0           0           0  ...   \n",
       "Archer                0           0           0           0           0  ...   \n",
       "\n",
       "2           Cases 07-28 Cases 07-29 Cases 07-30 Cases 07-31 Cases 08-01  \\\n",
       "County Name                                                               \n",
       "Anderson           2162        2172        2174        2196        2209   \n",
       "Andrews             232         238         253         255         255   \n",
       "Angelina           1487        1566        1606        1606        1647   \n",
       "Aransas             135         136         149         153         153   \n",
       "Archer               15          15          17          17          20   \n",
       "\n",
       "2           Cases 08-02 Cases 08-03 Cases 08-04 Cases 08-05 Cases 08-06  \n",
       "County Name                                                              \n",
       "Anderson           2209        2307        2329        2355        2353  \n",
       "Andrews             266         267         268         273         277  \n",
       "Angelina           1647        1647        1745        1755        1769  \n",
       "Aransas             157         158         158         162         165  \n",
       "Archer               20          20          20          20          21  \n",
       "\n",
       "[5 rows x 153 columns]"
      ]
     },
     "execution_count": 120,
     "metadata": {},
     "output_type": "execute_result"
    }
   ],
   "source": [
    "clean_df.head()"
   ]
  },
  {
   "cell_type": "code",
   "execution_count": 122,
   "metadata": {},
   "outputs": [],
   "source": [
    "clean_df.to_csv(\"Texas county COVID cases data clean.csv\")"
   ]
  }
 ],
 "metadata": {
  "kernelspec": {
   "display_name": "Python 3",
   "language": "python",
   "name": "python3"
  },
  "language_info": {
   "codemirror_mode": {
    "name": "ipython",
    "version": 3
   },
   "file_extension": ".py",
   "mimetype": "text/x-python",
   "name": "python",
   "nbconvert_exporter": "python",
   "pygments_lexer": "ipython3",
   "version": "3.7.4"
  }
 },
 "nbformat": 4,
 "nbformat_minor": 2
}
